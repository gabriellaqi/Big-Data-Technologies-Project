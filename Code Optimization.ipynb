{
 "cells": [
  {
   "cell_type": "code",
   "execution_count": 1,
   "metadata": {
    "scrolled": true
   },
   "outputs": [
    {
     "data": {
      "text/plain": [
       "'D:\\\\spark'"
      ]
     },
     "execution_count": 1,
     "metadata": {},
     "output_type": "execute_result"
    }
   ],
   "source": [
    "import findspark\n",
    "findspark.init()\n",
    "findspark.find()\n",
    "import pyspark\n",
    "findspark.find()"
   ]
  },
  {
   "cell_type": "code",
   "execution_count": 2,
   "metadata": {},
   "outputs": [],
   "source": [
    "# Initiate Spark Context\n",
    "from pyspark import SparkContext, SparkConf\n",
    "import re\n",
    "conf = SparkConf().setAppName(\"appName\")\n",
    "sc = SparkContext(conf = conf)"
   ]
  },
  {
   "cell_type": "code",
   "execution_count": 3,
   "metadata": {},
   "outputs": [],
   "source": [
    "#import glob\n",
    "#import io\n",
    "\n",
    "#read_files = glob.glob('C:/Users/Gabriella/Downloads/*.txt')\n",
    "\n",
    "#with io.open(\"en_US.all.txt\", \"wb\") as outfile:\n",
    "    #for f in read_files:\n",
    "        #with open(f, \"rb\") as infile:\n",
    "            #outfile.write(infile.read())"
   ]
  },
  {
   "cell_type": "code",
   "execution_count": 4,
   "metadata": {},
   "outputs": [],
   "source": [
    "doc = sc.textFile(\"en_US.all.txt\")"
   ]
  },
  {
   "cell_type": "code",
   "execution_count": 5,
   "metadata": {},
   "outputs": [],
   "source": [
    "flattened = doc.filter(lambda line : len(line) > 0).flatMap(lambda line: line.split(\" \"))\n",
    "kvPairs = flattened.filter(lambda word : len(word) > 0).map(lambda word: (word.lower(), 1))\n",
    "countsByWord = kvPairs.reduceByKey(lambda v1, v2 : v1 + v2).sortByKey(ascending = False)\n",
    "topWords = countsByWord.map(lambda x: (x[1], x[0])).sortByKey(ascending = False)"
   ]
  },
  {
   "cell_type": "code",
   "execution_count": 6,
   "metadata": {},
   "outputs": [
    {
     "data": {
      "text/plain": [
       "102080244"
      ]
     },
     "execution_count": 6,
     "metadata": {},
     "output_type": "execute_result"
    }
   ],
   "source": [
    "kvPairs.count()"
   ]
  },
  {
   "cell_type": "code",
   "execution_count": 7,
   "metadata": {},
   "outputs": [
    {
     "data": {
      "text/plain": [
       "2219509"
      ]
     },
     "execution_count": 7,
     "metadata": {},
     "output_type": "execute_result"
    }
   ],
   "source": [
    "topWords.count()"
   ]
  },
  {
   "cell_type": "code",
   "execution_count": 8,
   "metadata": {},
   "outputs": [
    {
     "data": {
      "text/plain": [
       "[(4704698, 'the'),\n",
       " (2732578, 'to'),\n",
       " (2371971, 'and'),\n",
       " (2354107, 'a'),\n",
       " (1997143, 'of'),\n",
       " (1613801, 'in'),\n",
       " (1571509, 'i'),\n",
       " (1083919, 'for'),\n",
       " (1043594, 'is'),\n",
       " (979101, 'that')]"
      ]
     },
     "execution_count": 8,
     "metadata": {},
     "output_type": "execute_result"
    }
   ],
   "source": [
    "topWords.top(10)"
   ]
  },
  {
   "cell_type": "code",
   "execution_count": 9,
   "metadata": {},
   "outputs": [],
   "source": [
    "topWords.saveAsTextFile(\"topwords\")"
   ]
  },
  {
   "cell_type": "code",
   "execution_count": 10,
   "metadata": {},
   "outputs": [
    {
     "data": {
      "text/plain": [
       "[('🛀🙏', 1),\n",
       " ('🛀📺👍', 1),\n",
       " ('🛀💦', 1),\n",
       " ('🛀👊', 1),\n",
       " ('🛀then', 1),\n",
       " ('🛀!!!', 1),\n",
       " ('🛀!!', 1),\n",
       " ('🛀', 10),\n",
       " ('🚽😂', 1),\n",
       " ('🚽💩', 2)]"
      ]
     },
     "execution_count": 10,
     "metadata": {},
     "output_type": "execute_result"
    }
   ],
   "source": [
    "emoji=topWords.map(lambda a: (a[1], a[0]))\n",
    "emoji.top(10)"
   ]
  },
  {
   "cell_type": "code",
   "execution_count": 11,
   "metadata": {},
   "outputs": [],
   "source": [
    "words = doc.flatMap(lambda x:x.split(' ')).filter(lambda x : len(x) >0)\n",
    "sorted = words.sortBy(lambda x: x[0].lower(), ascending=False)\n",
    "dist = sorted.distinct()"
   ]
  }
 ],
 "metadata": {
  "kernelspec": {
   "display_name": "Python 3",
   "language": "python",
   "name": "python3"
  },
  "language_info": {
   "codemirror_mode": {
    "name": "ipython",
    "version": 3
   },
   "file_extension": ".py",
   "mimetype": "text/x-python",
   "name": "python",
   "nbconvert_exporter": "python",
   "pygments_lexer": "ipython3",
   "version": "3.7.3"
  }
 },
 "nbformat": 4,
 "nbformat_minor": 2
}
